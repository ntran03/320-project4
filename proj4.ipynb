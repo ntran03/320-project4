{
 "cells": [
  {
   "cell_type": "markdown",
   "metadata": {},
   "source": [
    "## Project 4\n",
    "##### Nicole Tran, Azwa Bajwah, and Evelyn Zhao\n",
    "### Predicting IBM Closing Stock Value"
   ]
  },
  {
   "cell_type": "markdown",
   "metadata": {},
   "source": [
    "### Imports"
   ]
  },
  {
   "cell_type": "code",
   "execution_count": 1,
   "metadata": {},
   "outputs": [
    {
     "name": "stderr",
     "output_type": "stream",
     "text": [
      "/var/folders/lq/m6qymkcx1718frgl__z9ssrc0000gn/T/ipykernel_92347/1584581174.py:2: DeprecationWarning: \n",
      "Pyarrow will become a required dependency of pandas in the next major release of pandas (pandas 3.0),\n",
      "(to allow more performant data types, such as the Arrow string type, and better interoperability with other libraries)\n",
      "but was not found to be installed on your system.\n",
      "If this would cause problems for you,\n",
      "please provide us feedback at https://github.com/pandas-dev/pandas/issues/54466\n",
      "        \n",
      "  import pandas as pd\n"
     ]
    }
   ],
   "source": [
    "import requests\n",
    "import pandas as pd\n",
    "import matplotlib.pyplot as plt\n",
    "import numpy as np"
   ]
  },
  {
   "cell_type": "markdown",
   "metadata": {},
   "source": [
    "### Alpha Vantage API Data Retrieval\n",
    "\n",
    "Nicole's key: SM128O7TM7IKTSGT"
   ]
  },
  {
   "cell_type": "code",
   "execution_count": 21,
   "metadata": {},
   "outputs": [
    {
     "name": "stdout",
     "output_type": "stream",
     "text": [
      "{'Meta Data': {'1. Information': 'Daily Prices (open, high, low, close) and Volumes', '2. Symbol': 'IBM', '3. Last Refreshed': '2024-04-25', '4. Output Size': 'Compact', '5. Time Zone': 'US/Eastern'}, 'Time Series (Daily)': {'2024-04-25': {'1. open': '168.2000', '2. high': '172.4500', '3. low': '165.6600', '4. close': '168.9100', '5. volume': '16702150'}, '2024-04-24': {'1. open': '183.1700', '2. high': '184.2900', '3. low': '181.4000', '4. close': '184.1000', '5. volume': '7616643'}, '2024-04-23': {'1. open': '182.7300', '2. high': '184.6800', '3. low': '179.0000', '4. close': '182.1900', '5. volume': '5950229'}, '2024-04-22': {'1. open': '182.4500', '2. high': '183.3150', '3. low': '180.4500', '4. close': '181.9000', '5. volume': '3076451'}, '2024-04-19': {'1. open': '182.4300', '2. high': '182.8000', '3. low': '180.5700', '4. close': '181.5800', '5. volume': '3037990'}, '2024-04-18': {'1. open': '182.3500', '2. high': '183.4600', '3. low': '180.1700', '4. close': '181.4700', '5. volume': '2886733'}, '2024-04-17': {'1. open': '184.1600', '2. high': '184.6700', '3. low': '181.7800', '4. close': '183.1000', '5. volume': '3003033'}, '2024-04-16': {'1. open': '185.5900', '2. high': '185.7100', '3. low': '182.8600', '4. close': '183.7500', '5. volume': '4473654'}, '2024-04-15': {'1. open': '185.5700', '2. high': '187.4800', '3. low': '180.8800', '4. close': '181.2500', '5. volume': '3528140'}, '2024-04-12': {'1. open': '184.0000', '2. high': '185.1699', '3. low': '181.6850', '4. close': '182.2700', '5. volume': '3547378'}, '2024-04-11': {'1. open': '186.0400', '2. high': '186.7950', '3. low': '184.5800', '4. close': '185.9000', '5. volume': '2861736'}, '2024-04-10': {'1. open': '187.4200', '2. high': '187.9150', '3. low': '185.5200', '4. close': '186.0400', '5. volume': '3081915'}, '2024-04-09': {'1. open': '190.5400', '2. high': '191.2500', '3. low': '186.6600', '4. close': '189.3100', '5. volume': '2790673'}, '2024-04-08': {'1. open': '189.2400', '2. high': '190.2400', '3. low': '188.9118', '4. close': '189.8200', '5. volume': '2673611'}, '2024-04-05': {'1. open': '188.5900', '2. high': '190.3200', '3. low': '188.0200', '4. close': '189.1400', '5. volume': '2012428'}, '2024-04-04': {'1. open': '192.0000', '2. high': '193.2800', '3. low': '187.3400', '4. close': '187.9400', '5. volume': '2924438'}, '2024-04-03': {'1. open': '188.6000', '2. high': '191.3500', '3. low': '188.4850', '4. close': '190.9000', '5. volume': '2818910'}, '2024-04-02': {'1. open': '189.1400', '2. high': '189.8000', '3. low': '187.6000', '4. close': '188.8800', '5. volume': '2689711'}, '2024-04-01': {'1. open': '190.0000', '2. high': '190.4600', '3. low': '188.5200', '4. close': '189.8300', '5. volume': '2362586'}, '2024-03-28': {'1. open': '190.9400', '2. high': '191.9299', '3. low': '190.3400', '4. close': '190.9600', '5. volume': '3742169'}, '2024-03-27': {'1. open': '189.6000', '2. high': '190.9600', '3. low': '188.6000', '4. close': '190.8000', '5. volume': '3693305'}, '2024-03-26': {'1. open': '189.0200', '2. high': '190.0000', '3. low': '188.5000', '4. close': '188.5000', '5. volume': '4229535'}, '2024-03-25': {'1. open': '190.2600', '2. high': '190.8200', '3. low': '188.7500', '4. close': '188.7900', '5. volume': '3718289'}, '2024-03-22': {'1. open': '192.0000', '2. high': '192.9850', '3. low': '190.5100', '4. close': '190.8400', '5. volume': '3988398'}, '2024-03-21': {'1. open': '193.0000', '2. high': '193.3700', '3. low': '190.0100', '4. close': '191.9000', '5. volume': '6013561'}, '2024-03-20': {'1. open': '192.8700', '2. high': '193.9800', '3. low': '191.3100', '4. close': '193.9600', '5. volume': '3238643'}, '2024-03-19': {'1. open': '191.4900', '2. high': '193.5800', '3. low': '190.2800', '4. close': '193.3400', '5. volume': '5317341'}, '2024-03-18': {'1. open': '191.7000', '2. high': '193.2300', '3. low': '190.3200', '4. close': '191.6900', '5. volume': '5410562'}, '2024-03-15': {'1. open': '191.9900', '2. high': '193.0573', '3. low': '190.7000', '4. close': '191.0700', '5. volume': '8828184'}, '2024-03-14': {'1. open': '196.9500', '2. high': '197.7480', '3. low': '192.1200', '4. close': '193.4300', '5. volume': '4102202'}, '2024-03-13': {'1. open': '197.5500', '2. high': '198.1000', '3. low': '195.3200', '4. close': '196.7000', '5. volume': '3960737'}, '2024-03-12': {'1. open': '192.4600', '2. high': '199.1800', '3. low': '192.1500', '4. close': '197.7800', '5. volume': '5862512'}, '2024-03-11': {'1. open': '195.0900', '2. high': '195.3800', '3. low': '190.8800', '4. close': '191.7300', '5. volume': '4712688'}, '2024-03-08': {'1. open': '196.0600', '2. high': '197.7700', '3. low': '194.3800', '4. close': '195.9500', '5. volume': '3943113'}, '2024-03-07': {'1. open': '197.5800', '2. high': '198.7300', '3. low': '196.1400', '4. close': '196.5400', '5. volume': '4604458'}, '2024-03-06': {'1. open': '193.5000', '2. high': '198.1300', '3. low': '192.9600', '4. close': '196.1600', '5. volume': '6945818'}, '2024-03-05': {'1. open': '192.0000', '2. high': '193.9400', '3. low': '190.5700', '4. close': '191.9500', '5. volume': '5653641'}, '2024-03-04': {'1. open': '187.7600', '2. high': '193.8980', '3. low': '187.6000', '4. close': '193.0600', '5. volume': '7938266'}, '2024-03-01': {'1. open': '185.4900', '2. high': '188.3800', '3. low': '185.1800', '4. close': '188.2000', '5. volume': '4018354'}, '2024-02-29': {'1. open': '186.1500', '2. high': '186.8495', '3. low': '184.6900', '4. close': '185.0300', '5. volume': '6458487'}, '2024-02-28': {'1. open': '184.6300', '2. high': '185.3700', '3. low': '183.5500', '4. close': '185.3000', '5. volume': '3216345'}, '2024-02-27': {'1. open': '184.1600', '2. high': '185.1300', '3. low': '182.6200', '4. close': '184.8700', '5. volume': '3641378'}, '2024-02-26': {'1. open': '185.6000', '2. high': '186.1250', '3. low': '184.0600', '4. close': '184.1300', '5. volume': '4620815'}, '2024-02-23': {'1. open': '184.9000', '2. high': '186.4550', '3. low': '184.5700', '4. close': '185.7200', '5. volume': '3433800'}, '2024-02-22': {'1. open': '182.4500', '2. high': '184.5500', '3. low': '181.9300', '4. close': '184.2100', '5. volume': '5078398'}, '2024-02-21': {'1. open': '182.5600', '2. high': '183.0300', '3. low': '178.7500', '4. close': '179.7000', '5. volume': '4728473'}, '2024-02-20': {'1. open': '187.6400', '2. high': '188.7700', '3. low': '183.0600', '4. close': '183.4400', '5. volume': '4247181'}, '2024-02-16': {'1. open': '186.6300', '2. high': '188.9500', '3. low': '185.9452', '4. close': '187.6400', '5. volume': '4842840'}, '2024-02-15': {'1. open': '183.6200', '2. high': '186.9800', '3. low': '183.6200', '4. close': '186.8700', '5. volume': '4714301'}, '2024-02-14': {'1. open': '185.0000', '2. high': '185.0000', '3. low': '182.2600', '4. close': '183.5700', '5. volume': '3173391'}, '2024-02-13': {'1. open': '184.2800', '2. high': '184.7700', '3. low': '182.3600', '4. close': '183.7000', '5. volume': '4290453'}, '2024-02-12': {'1. open': '185.9000', '2. high': '186.4800', '3. low': '184.0300', '4. close': '186.1600', '5. volume': '4724021'}, '2024-02-09': {'1. open': '184.4400', '2. high': '187.1800', '3. low': '183.8500', '4. close': '186.3400', '5. volume': '5064641'}, '2024-02-08': {'1. open': '182.6300', '2. high': '184.5500', '3. low': '181.4900', '4. close': '184.3600', '5. volume': '5161185'}, '2024-02-07': {'1. open': '183.3400', '2. high': '184.0200', '3. low': '182.6250', '4. close': '183.7400', '5. volume': '4841188'}, '2024-02-06': {'1. open': '183.5500', '2. high': '184.6800', '3. low': '183.0400', '4. close': '183.4100', '5. volume': '3338196'}, '2024-02-05': {'1. open': '185.5100', '2. high': '185.7800', '3. low': '183.2550', '4. close': '183.4200', '5. volume': '4379602'}, '2024-02-02': {'1. open': '187.1000', '2. high': '187.3900', '3. low': '185.6150', '4. close': '185.7900', '5. volume': '4055411'}, '2024-02-01': {'1. open': '183.6300', '2. high': '187.5100', '3. low': '182.7100', '4. close': '186.9000', '5. volume': '4669444'}, '2024-01-31': {'1. open': '187.0500', '2. high': '187.6500', '3. low': '183.1400', '4. close': '183.6600', '5. volume': '8876055'}, '2024-01-30': {'1. open': '187.7100', '2. high': '188.6500', '3. low': '186.7700', '4. close': '187.8700', '5. volume': '4575058'}, '2024-01-29': {'1. open': '187.4600', '2. high': '189.4600', '3. low': '186.0500', '4. close': '187.1400', '5. volume': '6107908'}, '2024-01-26': {'1. open': '191.3100', '2. high': '192.3896', '3. low': '186.1600', '4. close': '187.4200', '5. volume': '9895941'}, '2024-01-25': {'1. open': '184.9600', '2. high': '196.9000', '3. low': '184.8300', '4. close': '190.4300', '5. volume': '29596239'}, '2024-01-24': {'1. open': '174.7600', '2. high': '174.8600', '3. low': '172.9000', '4. close': '173.9300', '5. volume': '7831157'}, '2024-01-23': {'1. open': '172.9000', '2. high': '174.0200', '3. low': '172.4800', '4. close': '173.9400', '5. volume': '3983461'}, '2024-01-22': {'1. open': '172.8200', '2. high': '174.4500', '3. low': '172.4000', '4. close': '172.8300', '5. volume': '4925964'}, '2024-01-19': {'1. open': '170.5900', '2. high': '171.5791', '3. low': '169.1800', '4. close': '171.4800', '5. volume': '6929079'}, '2024-01-18': {'1. open': '166.4900', '2. high': '166.9900', '3. low': '165.0400', '4. close': '166.8400', '5. volume': '3776990'}, '2024-01-17': {'1. open': '166.7900', '2. high': '167.8200', '3. low': '165.4950', '4. close': '166.0800', '5. volume': '4288604'}, '2024-01-16': {'1. open': '165.8000', '2. high': '167.2500', '3. low': '165.3400', '4. close': '166.9600', '5. volume': '4869635'}, '2024-01-12': {'1. open': '162.9700', '2. high': '165.9800', '3. low': '162.3550', '4. close': '165.8000', '5. volume': '4958261'}, '2024-01-11': {'1. open': '161.0200', '2. high': '162.2300', '3. low': '160.2900', '4. close': '162.1600', '5. volume': '3778395'}, '2024-01-10': {'1. open': '160.2800', '2. high': '161.3400', '3. low': '159.7400', '4. close': '161.2300', '5. volume': '2967852'}, '2024-01-09': {'1. open': '160.0000', '2. high': '160.4837', '3. low': '159.5100', '4. close': '160.0800', '5. volume': '2617186'}, '2024-01-08': {'1. open': '158.6900', '2. high': '161.2160', '3. low': '157.8850', '4. close': '161.1400', '5. volume': '3321698'}, '2024-01-05': {'1. open': '159.9100', '2. high': '160.5500', '3. low': '158.6700', '4. close': '159.1600', '5. volume': '3698961'}, '2024-01-04': {'1. open': '160.2200', '2. high': '161.8100', '3. low': '160.1700', '4. close': '160.8600', '5. volume': '3212004'}, '2024-01-03': {'1. open': '161.0000', '2. high': '161.7300', '3. low': '160.0800', '4. close': '160.1000', '5. volume': '4086065'}, '2024-01-02': {'1. open': '162.8300', '2. high': '163.2900', '3. low': '160.4600', '4. close': '161.5000', '5. volume': '3825044'}, '2023-12-29': {'1. open': '163.7500', '2. high': '164.1800', '3. low': '162.8300', '4. close': '163.5500', '5. volume': '2526169'}, '2023-12-28': {'1. open': '163.9600', '2. high': '163.9600', '3. low': '163.4000', '4. close': '163.7500', '5. volume': '2071313'}, '2023-12-27': {'1. open': '163.1400', '2. high': '163.6400', '3. low': '162.6800', '4. close': '163.4600', '5. volume': '3006612'}, '2023-12-26': {'1. open': '162.2300', '2. high': '163.3100', '3. low': '162.0500', '4. close': '163.2100', '5. volume': '1772443'}, '2023-12-22': {'1. open': '161.1000', '2. high': '162.4100', '3. low': '161.0000', '4. close': '162.1400', '5. volume': '2442715'}, '2023-12-21': {'1. open': '160.5900', '2. high': '161.0800', '3. low': '159.5300', '4. close': '160.7800', '5. volume': '2982924'}, '2023-12-20': {'1. open': '161.2900', '2. high': '161.8000', '3. low': '160.0100', '4. close': '160.0500', '5. volume': '4865797'}, '2023-12-19': {'1. open': '161.8000', '2. high': '162.2800', '3. low': '161.3200', '4. close': '161.5600', '5. volume': '3717429'}, '2023-12-18': {'1. open': '162.2300', '2. high': '163.3300', '3. low': '161.5766', '4. close': '162.7400', '5. volume': '3677533'}, '2023-12-15': {'1. open': '162.3000', '2. high': '164.0900', '3. low': '162.0400', '4. close': '162.2300', '5. volume': '11016108'}, '2023-12-14': {'1. open': '162.9300', '2. high': '163.4990', '3. low': '160.1490', '4. close': '162.9100', '5. volume': '6129804'}, '2023-12-13': {'1. open': '164.3700', '2. high': '164.9653', '3. low': '162.7350', '4. close': '163.6200', '5. volume': '4989141'}, '2023-12-12': {'1. open': '163.2700', '2. high': '166.3400', '3. low': '162.9200', '4. close': '164.7100', '5. volume': '5292290'}, '2023-12-11': {'1. open': '162.6800', '2. high': '163.6500', '3. low': '161.9500', '4. close': '163.5100', '5. volume': '6077207'}, '2023-12-08': {'1. open': '160.0000', '2. high': '162.0400', '3. low': '160.0000', '4. close': '161.9600', '5. volume': '4561342'}, '2023-12-07': {'1. open': '161.0000', '2. high': '161.4650', '3. low': '159.9700', '4. close': '160.2200', '5. volume': '3665498'}, '2023-12-06': {'1. open': '161.5900', '2. high': '162.3550', '3. low': '160.0100', '4. close': '160.2800', '5. volume': '3356432'}, '2023-12-05': {'1. open': '160.7600', '2. high': '162.4700', '3. low': '160.7200', '4. close': '161.3900', '5. volume': '4556668'}, '2023-12-04': {'1. open': '160.2900', '2. high': '162.7900', '3. low': '160.2900', '4. close': '161.1000', '5. volume': '5779017'}, '2023-12-01': {'1. open': '158.4100', '2. high': '160.5900', '3. low': '158.0000', '4. close': '160.5500', '5. volume': '4871860'}}}\n"
     ]
    },
    {
     "data": {
      "text/html": [
       "<div>\n",
       "<style scoped>\n",
       "    .dataframe tbody tr th:only-of-type {\n",
       "        vertical-align: middle;\n",
       "    }\n",
       "\n",
       "    .dataframe tbody tr th {\n",
       "        vertical-align: top;\n",
       "    }\n",
       "\n",
       "    .dataframe thead th {\n",
       "        text-align: right;\n",
       "    }\n",
       "</style>\n",
       "<table border=\"1\" class=\"dataframe\">\n",
       "  <thead>\n",
       "    <tr style=\"text-align: right;\">\n",
       "      <th></th>\n",
       "      <th>date</th>\n",
       "      <th>open</th>\n",
       "      <th>high</th>\n",
       "      <th>low</th>\n",
       "      <th>close</th>\n",
       "      <th>volume</th>\n",
       "    </tr>\n",
       "  </thead>\n",
       "  <tbody>\n",
       "    <tr>\n",
       "      <th>0</th>\n",
       "      <td>2024-04-25</td>\n",
       "      <td>168.2000</td>\n",
       "      <td>172.4500</td>\n",
       "      <td>165.6600</td>\n",
       "      <td>168.9100</td>\n",
       "      <td>16702150</td>\n",
       "    </tr>\n",
       "    <tr>\n",
       "      <th>1</th>\n",
       "      <td>2024-04-24</td>\n",
       "      <td>183.1700</td>\n",
       "      <td>184.2900</td>\n",
       "      <td>181.4000</td>\n",
       "      <td>184.1000</td>\n",
       "      <td>7616643</td>\n",
       "    </tr>\n",
       "    <tr>\n",
       "      <th>2</th>\n",
       "      <td>2024-04-23</td>\n",
       "      <td>182.7300</td>\n",
       "      <td>184.6800</td>\n",
       "      <td>179.0000</td>\n",
       "      <td>182.1900</td>\n",
       "      <td>5950229</td>\n",
       "    </tr>\n",
       "    <tr>\n",
       "      <th>3</th>\n",
       "      <td>2024-04-22</td>\n",
       "      <td>182.4500</td>\n",
       "      <td>183.3150</td>\n",
       "      <td>180.4500</td>\n",
       "      <td>181.9000</td>\n",
       "      <td>3076451</td>\n",
       "    </tr>\n",
       "    <tr>\n",
       "      <th>4</th>\n",
       "      <td>2024-04-19</td>\n",
       "      <td>182.4300</td>\n",
       "      <td>182.8000</td>\n",
       "      <td>180.5700</td>\n",
       "      <td>181.5800</td>\n",
       "      <td>3037990</td>\n",
       "    </tr>\n",
       "  </tbody>\n",
       "</table>\n",
       "</div>"
      ],
      "text/plain": [
       "         date      open      high       low     close    volume\n",
       "0  2024-04-25  168.2000  172.4500  165.6600  168.9100  16702150\n",
       "1  2024-04-24  183.1700  184.2900  181.4000  184.1000   7616643\n",
       "2  2024-04-23  182.7300  184.6800  179.0000  182.1900   5950229\n",
       "3  2024-04-22  182.4500  183.3150  180.4500  181.9000   3076451\n",
       "4  2024-04-19  182.4300  182.8000  180.5700  181.5800   3037990"
      ]
     },
     "execution_count": 21,
     "metadata": {},
     "output_type": "execute_result"
    }
   ],
   "source": [
    "#get data from api\n",
    "key = \"SM128O7TM7IKTSGT\"\n",
    "url = 'https://www.alphavantage.co/query?function=TIME_SERIES_DAILY&symbol=IBM&apikey={key}'\n",
    "r = requests.get(url)\n",
    "data = r.json()\n",
    "data = data['Time Series (Daily)']\n",
    "\n",
    "#put into a pd df\n",
    "ibm_daily = pd.DataFrame(data).T\n",
    "ibm_daily.reset_index(inplace=True)\n",
    "col_names = [\"date\",\"open\",\"high\",\"low\",\"close\",\"volume\"]\n",
    "ibm_daily.columns = col_names\n",
    "ibm_daily.head()\n"
   ]
  },
  {
   "cell_type": "markdown",
   "metadata": {},
   "source": [
    "### Visualize Data"
   ]
  },
  {
   "cell_type": "code",
   "execution_count": null,
   "metadata": {},
   "outputs": [],
   "source": [
    "#data viz"
   ]
  },
  {
   "cell_type": "markdown",
   "metadata": {},
   "source": [
    "### Multivariate Linear Regression model"
   ]
  },
  {
   "cell_type": "code",
   "execution_count": null,
   "metadata": {},
   "outputs": [],
   "source": [
    "#mlr model"
   ]
  },
  {
   "cell_type": "markdown",
   "metadata": {},
   "source": [
    "### Add Regularization with RidgeRegression\n",
    "\n",
    "The use of regularizing is ... (one sentence here)"
   ]
  },
  {
   "cell_type": "code",
   "execution_count": null,
   "metadata": {},
   "outputs": [],
   "source": [
    "#regularizing"
   ]
  },
  {
   "cell_type": "markdown",
   "metadata": {},
   "source": [
    "### Calculating Mean Standard Error\n",
    "\n",
    "Calculate the MSE for the new RidgeRegression model across the 5 days, and compare it to the MSE when using the LinearRegression model without the regularization. Give an explanation for why the two values might potentially be different."
   ]
  },
  {
   "cell_type": "markdown",
   "metadata": {},
   "source": [
    "### Pros and Cons\n",
    "\n",
    "Now that we have our model, we can accurately predict every IBM closing day stock value- right? Give a brief explanation as to the pros and cons of using this approach in the real world, and whether it would have practical value. Also, describe briefly how you picked the coefficient for the L2-norm in ridge regression."
   ]
  }
 ],
 "metadata": {
  "kernelspec": {
   "display_name": "cnn",
   "language": "python",
   "name": "python3"
  },
  "language_info": {
   "codemirror_mode": {
    "name": "ipython",
    "version": 3
   },
   "file_extension": ".py",
   "mimetype": "text/x-python",
   "name": "python",
   "nbconvert_exporter": "python",
   "pygments_lexer": "ipython3",
   "version": "3.11.5"
  }
 },
 "nbformat": 4,
 "nbformat_minor": 2
}
